{
  "nbformat": 4,
  "nbformat_minor": 0,
  "metadata": {
    "colab": {
      "provenance": [],
      "authorship_tag": "ABX9TyP5jEBW4ILAZUwtnR3saF2N"
    },
    "kernelspec": {
      "name": "python3",
      "display_name": "Python 3"
    },
    "language_info": {
      "name": "python"
    }
  },
  "cells": [
    {
      "cell_type": "markdown",
      "source": [
        "# **Write a program to check palindrome.**"
      ],
      "metadata": {
        "id": "b-GCLb12F0he"
      }
    },
    {
      "cell_type": "code",
      "execution_count": 1,
      "metadata": {
        "id": "V0sgc0ZIEVIq"
      },
      "outputs": [],
      "source": [
        "def rev_num(n):\n",
        "    rev = 0\n",
        "    while(n > 0):\n",
        "        digit = n % 10\n",
        "        n =  n // 10\n",
        "        rev = rev*10 + digit\n",
        "    return rev"
      ]
    },
    {
      "cell_type": "code",
      "source": [
        "def check_palindrome(n):\n",
        "    return (rev_num(n) == n)"
      ],
      "metadata": {
        "id": "x2RYe_n8Enfp"
      },
      "execution_count": 2,
      "outputs": []
    },
    {
      "cell_type": "code",
      "source": [
        "n = int(input(\"Enter n : \"))\n",
        "print(f\"Result = {check_palindrome(n)}\")"
      ],
      "metadata": {
        "colab": {
          "base_uri": "https://localhost:8080/"
        },
        "id": "B13w6N_mErSu",
        "outputId": "b6652151-be50-4770-c191-a5d925119072"
      },
      "execution_count": 8,
      "outputs": [
        {
          "output_type": "stream",
          "name": "stdout",
          "text": [
            "Enter n : 3553\n",
            "Result = True\n"
          ]
        }
      ]
    },
    {
      "cell_type": "code",
      "source": [
        "def rev(string):\n",
        "    return string[::-1]"
      ],
      "metadata": {
        "id": "Ww1c5HF1GcMb"
      },
      "execution_count": 5,
      "outputs": []
    },
    {
      "cell_type": "code",
      "source": [
        "\n",
        "def check_pal(string):\n",
        "    return (rev(string) == string)"
      ],
      "metadata": {
        "id": "GAut7h7bGg3d"
      },
      "execution_count": 6,
      "outputs": []
    },
    {
      "cell_type": "code",
      "source": [
        "x = input(\"Input : \")\n",
        "print(f\"Result = {check_pal(x.lower())}\")"
      ],
      "metadata": {
        "colab": {
          "base_uri": "https://localhost:8080/"
        },
        "id": "U4x9CqhgGjbj",
        "outputId": "07d0913f-c998-4dc0-a70a-ca5822b09670"
      },
      "execution_count": 7,
      "outputs": [
        {
          "output_type": "stream",
          "name": "stdout",
          "text": [
            "Input : radar\n",
            "Result = True\n"
          ]
        }
      ]
    }
  ]
}