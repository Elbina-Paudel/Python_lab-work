{
  "nbformat": 4,
  "nbformat_minor": 0,
  "metadata": {
    "colab": {
      "provenance": [],
      "authorship_tag": "ABX9TyO5WA53Qx5lt18Gkj2nM9M9",
      "include_colab_link": true
    },
    "kernelspec": {
      "name": "python3",
      "display_name": "Python 3"
    },
    "language_info": {
      "name": "python"
    }
  },
  "cells": [
    {
      "cell_type": "markdown",
      "metadata": {
        "id": "view-in-github",
        "colab_type": "text"
      },
      "source": [
        "<a href=\"https://colab.research.google.com/github/Elbina-Paudel/Python_lab-work/blob/main/LAB1_q1.ipynb\" target=\"_parent\"><img src=\"https://colab.research.google.com/assets/colab-badge.svg\" alt=\"Open In Colab\"/></a>"
      ]
    },
    {
      "cell_type": "markdown",
      "source": [
        "# **Write a program to find prime number with in a range using function.**"
      ],
      "metadata": {
        "id": "R0jO2M1RDF5J"
      }
    },
    {
      "cell_type": "code",
      "source": [
        "def isPrime(num):\n",
        "    flag = 0\n",
        "    for i in range(2, num):\n",
        "        if (num % i == 0):\n",
        "            flag = 1\n",
        "            break\n",
        "        else :\n",
        "            flag = 0\n",
        "    if(flag == 1):\n",
        "        return False\n",
        "    elif(flag == 0):\n",
        "        return True"
      ],
      "metadata": {
        "id": "pw46xB_LDQTQ"
      },
      "execution_count": 1,
      "outputs": []
    },
    {
      "cell_type": "code",
      "source": [
        "primes = []"
      ],
      "metadata": {
        "id": "VxQ0RVSFDXb8"
      },
      "execution_count": 2,
      "outputs": []
    },
    {
      "cell_type": "code",
      "source": [
        "lowerLimit = int(input(\"Enter lower limit \"))\n",
        "upperLimit = int(input(\"Enter upper limit \"))"
      ],
      "metadata": {
        "colab": {
          "base_uri": "https://localhost:8080/"
        },
        "id": "SsN0BzjJDbOz",
        "outputId": "79f01a95-e387-492f-ce6e-cba9e87d4f0c"
      },
      "execution_count": 3,
      "outputs": [
        {
          "name": "stdout",
          "output_type": "stream",
          "text": [
            "Enter lower limit 44\n",
            "Enter upper limit 134\n"
          ]
        }
      ]
    },
    {
      "cell_type": "code",
      "source": [
        "for i in range(lowerLimit, upperLimit):\n",
        "    if(isPrime(i)):\n",
        "        primes.append(i)\n",
        "print(f\"list of prime numbers between {lowerLimit} and {upperLimit}: \")\n",
        "print(primes)"
      ],
      "metadata": {
        "colab": {
          "base_uri": "https://localhost:8080/"
        },
        "id": "CKqboJFkDkYQ",
        "outputId": "cbf4c34d-5a28-4eff-f6ec-9fb5b010d7c6"
      },
      "execution_count": 4,
      "outputs": [
        {
          "output_type": "stream",
          "name": "stdout",
          "text": [
            "list of prime numbers between 44 and 134: \n",
            "[47, 53, 59, 61, 67, 71, 73, 79, 83, 89, 97, 101, 103, 107, 109, 113, 127, 131]\n"
          ]
        }
      ]
    }
  ]
}