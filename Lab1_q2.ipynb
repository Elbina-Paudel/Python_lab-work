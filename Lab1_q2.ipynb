{
  "nbformat": 4,
  "nbformat_minor": 0,
  "metadata": {
    "colab": {
      "provenance": [],
      "authorship_tag": "ABX9TyMJlHE8I7y08fmRtbydxh7/",
      "include_colab_link": true
    },
    "kernelspec": {
      "name": "python3",
      "display_name": "Python 3"
    },
    "language_info": {
      "name": "python"
    }
  },
  "cells": [
    {
      "cell_type": "markdown",
      "metadata": {
        "id": "view-in-github",
        "colab_type": "text"
      },
      "source": [
        "<a href=\"https://colab.research.google.com/github/Elbina-Paudel/Python_lab-work/blob/main/Lab1_q2.ipynb\" target=\"_parent\"><img src=\"https://colab.research.google.com/assets/colab-badge.svg\" alt=\"Open In Colab\"/></a>"
      ]
    },
    {
      "cell_type": "markdown",
      "source": [
        "# **Write a program to generate the Fibonacci sequence of a given number.**"
      ],
      "metadata": {
        "id": "UO7Dig1sFuPW"
      }
    },
    {
      "cell_type": "code",
      "execution_count": 2,
      "metadata": {
        "id": "5jv5xexqD8sP"
      },
      "outputs": [],
      "source": [
        "def gen_fibo_upto(n):\n",
        "    n1 = 0\n",
        "    n2 = 1\n",
        "    series = []\n",
        "    while (n > 0):\n",
        "        temp = n1 + n2\n",
        "        n1 = n2\n",
        "        n2 = temp\n",
        "\n",
        "        series.append(n1)\n",
        "        n -= 1\n",
        "\n",
        "    return series"
      ]
    },
    {
      "cell_type": "code",
      "source": [
        "\n",
        "print(gen_fibo_upto(50))"
      ],
      "metadata": {
        "colab": {
          "base_uri": "https://localhost:8080/"
        },
        "id": "wbKZLUKAE952",
        "outputId": "0fcaf822-f544-4731-cf3d-2b323b3d8152"
      },
      "execution_count": 4,
      "outputs": [
        {
          "output_type": "stream",
          "name": "stdout",
          "text": [
            "[1, 1, 2, 3, 5, 8, 13, 21, 34, 55, 89, 144, 233, 377, 610, 987, 1597, 2584, 4181, 6765, 10946, 17711, 28657, 46368, 75025, 121393, 196418, 317811, 514229, 832040, 1346269, 2178309, 3524578, 5702887, 9227465, 14930352, 24157817, 39088169, 63245986, 102334155, 165580141, 267914296, 433494437, 701408733, 1134903170, 1836311903, 2971215073, 4807526976, 7778742049, 12586269025]\n"
          ]
        }
      ]
    }
  ]
}