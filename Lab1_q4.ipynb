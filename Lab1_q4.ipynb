{
  "nbformat": 4,
  "nbformat_minor": 0,
  "metadata": {
    "colab": {
      "provenance": [],
      "authorship_tag": "ABX9TyNP+UJ8QORl1rJ6F3Vj8ANv"
    },
    "kernelspec": {
      "name": "python3",
      "display_name": "Python 3"
    },
    "language_info": {
      "name": "python"
    }
  },
  "cells": [
    {
      "cell_type": "markdown",
      "source": [
        "# **Create a number guessing game. Where you have to generate a random number in between 1 to 100 and user have to prompt a number for guess. if its high or low number let the user know and guide them through the process to guess correct number.**"
      ],
      "metadata": {
        "id": "_sfCWzCnJyhb"
      }
    },
    {
      "cell_type": "code",
      "execution_count": 3,
      "metadata": {
        "id": "n0bU-mzuEWG4"
      },
      "outputs": [],
      "source": [
        "from random import randint"
      ]
    },
    {
      "cell_type": "code",
      "source": [
        "def game():\n",
        "    print(\"Lets play, guess the correct integer between 1 and 100\")\n",
        "    num = randint(1, 100)\n",
        "    count = 1\n",
        "    while (True):\n",
        "        guess = int(input(f\"Attempt {count}, Guess : \"))\n",
        "        if guess == num :\n",
        "            print(\"Hurrayy !!\")\n",
        "            break\n",
        "        else :\n",
        "            if guess > 100 or guess < 1:\n",
        "                print(\"Invalid Entry, try again\")\n",
        "            elif guess > num:\n",
        "                print(\"Guess lower\")\n",
        "            else :\n",
        "                print(\"Guess higher\")\n",
        "        count += 1\n",
        "\n",
        "    print(f\"Correct number guessed in {count} attempts\")\n",
        "\n",
        "game()\n"
      ],
      "metadata": {
        "colab": {
          "base_uri": "https://localhost:8080/"
        },
        "id": "7IDisjcRG-R0",
        "outputId": "8b95445d-8f49-42b7-8e49-0da7e8a63131"
      },
      "execution_count": 4,
      "outputs": [
        {
          "output_type": "stream",
          "name": "stdout",
          "text": [
            "Lets play, guess the correct integer between 1 and 100\n",
            "Attempt 1, Guess : 22\n",
            "Guess higher\n",
            "Attempt 2, Guess : 24\n",
            "Guess higher\n",
            "Attempt 3, Guess : 55\n",
            "Guess higher\n",
            "Attempt 4, Guess : 65\n",
            "Guess lower\n",
            "Attempt 5, Guess : 43\n",
            "Guess higher\n",
            "Attempt 6, Guess : 43\n",
            "Guess higher\n",
            "Attempt 7, Guess : 65\n",
            "Guess lower\n",
            "Attempt 8, Guess : 60\n",
            "Guess lower\n",
            "Attempt 9, Guess : 45\n",
            "Guess higher\n",
            "Attempt 10, Guess : 51\n",
            "Guess higher\n",
            "Attempt 11, Guess : 55\n",
            "Guess higher\n",
            "Attempt 12, Guess : 58\n",
            "Hurrayy !!\n",
            "Correct number guessed in 12 attempts\n"
          ]
        }
      ]
    }
  ]
}