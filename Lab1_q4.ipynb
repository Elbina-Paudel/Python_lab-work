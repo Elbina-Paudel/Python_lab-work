{
  "nbformat": 4,
  "nbformat_minor": 0,
  "metadata": {
    "colab": {
      "provenance": [],
      "authorship_tag": "ABX9TyNP+UJ8QORl1rJ6F3Vj8ANv"
    },
    "kernelspec": {
      "name": "python3",
      "display_name": "Python 3"
    },
    "language_info": {
      "name": "python"
    }
  },
  "cells": [
    {
      "cell_type": "markdown",
      "source": [
        "# **Create a number guessing game. Where you have to generate a random number in between 1 to 100 and user have to prompt a number for guess. if its high or low number let the user know and guide them through the process to guess correct number.**"
      ],
      "metadata": {
        "id": "_sfCWzCnJyhb"
      }
    },
    {
      "cell_type": "code",
      "execution_count": 1,
      "metadata": {
        "id": "n0bU-mzuEWG4"
      },
      "outputs": [],
      "source": [
        "from random import randint"
      ]
    },
    {
      "cell_type": "code",
      "source": [
        "def game():\n",
        "    print(\"Lets play, guess the correct integer between 1 and 100\")\n",
        "    num = randint(1, 100)\n",
        "    count = 1\n",
        "    while (True):\n",
        "        guess = int(input(f\"Attempt {count}, Guess : \"))\n",
        "        if guess == num :\n",
        "            print(\"Hurrayy !!\")\n",
        "            break\n",
        "        else :\n",
        "            if guess > 100 or guess < 1:\n",
        "                print(\"Invalid Entry, try again\")\n",
        "            elif guess > num:\n",
        "                print(\"Guess lower\")\n",
        "            else :\n",
        "                print(\"Guess higher\")\n",
        "        count += 1\n",
        "\n",
        "    print(f\"Correct number guessed in {count} attempts\")\n",
        "\n",
        "game()\n",
        ""
      ],
      "metadata": {
        "colab": {
          "base_uri": "https://localhost:8080/"
        },
        "id": "7IDisjcRG-R0",
        "outputId": "539157d0-af42-45d0-e58c-aa68d1f3cc6e"
      },
      "execution_count": 2,
      "outputs": [
        {
          "output_type": "stream",
          "name": "stdout",
          "text": [
            "Lets play, guess the correct integer between 1 and 100\n",
            "Attempt 1, Guess : 22\n",
            "Guess higher\n",
            "Attempt 2, Guess : 456\n",
            "Invalid Entry, try again\n",
            "Attempt 3, Guess : 23\n",
            "Guess higher\n",
            "Attempt 4, Guess : 45\n",
            "Guess higher\n",
            "Attempt 5, Guess : 78\n",
            "Hurrayy !!\n",
            "Correct number guessed in 5 attempts\n"
          ]
        }
      ]
    }
  ]
}